{
 "cells": [
  {
   "cell_type": "markdown",
   "metadata": {},
   "source": [
    "# Classes"
   ]
  },
  {
   "cell_type": "markdown",
   "metadata": {},
   "source": [
    "##### por convenção a primeira letra do nome da classe é maiusculo\n",
    "##### exemplo: \"class Cachorro():\""
   ]
  },
  {
   "cell_type": "code",
   "execution_count": 1,
   "metadata": {},
   "outputs": [],
   "source": [
    "#Criando a Classe \"Livro\"\n",
    "class Livro():\n",
    "    # este método vai inicializar cada obj. criado a partir dessa classe\n",
    "    # o nome desse método é \"__init__\" - (com dois _) - tbm chamado de \"método construtor\" pq ele que inicia a classe\n",
    "    # (self) é uma referencia a cada atributo de um obj. criado a partir dessa classe\n",
    "    def __init__(self):\n",
    "        # atributos de cada objeto criado a partir dessa classe\n",
    "        # o self indica que esses são atributos dos objetos\n",
    "        self.titulo = 'o monge e o executivo'\n",
    "        self.isbn = 9988888\n",
    "        print(\"construtor chamado para criar um objeto dessa classe\")\n",
    "    # métodos sao funçoes que recebem como parametro atributos do obj. criado\n",
    "    def imprime(self):\n",
    "        print(\"foi criado o livro %s e ISNB %d\" %(self.titulo, self.isbn))"
   ]
  },
  {
   "cell_type": "code",
   "execution_count": 4,
   "metadata": {},
   "outputs": [
    {
     "name": "stdout",
     "output_type": "stream",
     "text": [
      "construtor chamado para criar um objeto dessa classe\n"
     ]
    }
   ],
   "source": [
    "#Criando uma instancia da classe Livro:\n",
    "Livro1 = Livro()\n",
    "#Livro1 é o nome do obj. da classe Livro"
   ]
  },
  {
   "cell_type": "code",
   "execution_count": 6,
   "metadata": {},
   "outputs": [
    {
     "data": {
      "text/plain": [
       "__main__.Livro"
      ]
     },
     "execution_count": 6,
     "metadata": {},
     "output_type": "execute_result"
    }
   ],
   "source": [
    "#Tipo do objeto Livro1\n",
    "type(Livro1)"
   ]
  },
  {
   "cell_type": "code",
   "execution_count": 7,
   "metadata": {},
   "outputs": [
    {
     "data": {
      "text/plain": [
       "'o monge e o executivo'"
      ]
     },
     "execution_count": 7,
     "metadata": {},
     "output_type": "execute_result"
    }
   ],
   "source": [
    "#Atributo do objeto Livro1\n",
    "Livro1.titulo"
   ]
  },
  {
   "cell_type": "code",
   "execution_count": 8,
   "metadata": {},
   "outputs": [
    {
     "name": "stdout",
     "output_type": "stream",
     "text": [
      "foi criado o livro o monge e o executivo e ISNB 9988888\n"
     ]
    }
   ],
   "source": [
    "#Metodo do objeto Livro1\n",
    "Livro1.imprime()"
   ]
  },
  {
   "cell_type": "code",
   "execution_count": 9,
   "metadata": {},
   "outputs": [],
   "source": [
    "#Recriando a Classe \"Livro\"\n",
    "class Livro():\n",
    "    def __init__(self, titulo, isbn):\n",
    "        self.titulo = titulo\n",
    "        self.isbn = isbn\n",
    "        print(\"construtor chamado para criar um objeto dessa classe\")\n",
    "    def imprime(self, titulo, isbn):\n",
    "        print(\"foi criado o livro %s e ISNB %d\" %(self.titulo, self.isbn))"
   ]
  },
  {
   "cell_type": "code",
   "execution_count": 10,
   "metadata": {},
   "outputs": [
    {
     "name": "stdout",
     "output_type": "stream",
     "text": [
      "construtor chamado para criar um objeto dessa classe\n"
     ]
    }
   ],
   "source": [
    "#Criando objeto Livro2\n",
    "Livro2 = Livro(\"A menina que roubava livros\", 77886611)"
   ]
  },
  {
   "cell_type": "code",
   "execution_count": 11,
   "metadata": {},
   "outputs": [
    {
     "data": {
      "text/plain": [
       "'A menina que roubava livros'"
      ]
     },
     "execution_count": 11,
     "metadata": {},
     "output_type": "execute_result"
    }
   ],
   "source": [
    "Livro2.titulo"
   ]
  },
  {
   "cell_type": "code",
   "execution_count": 13,
   "metadata": {},
   "outputs": [
    {
     "name": "stdout",
     "output_type": "stream",
     "text": [
      "foi criado o livro A menina que roubava livros e ISNB 77886611\n"
     ]
    }
   ],
   "source": [
    "Livro2.imprime(\"A menina que roubava livros\", 77886611)"
   ]
  },
  {
   "cell_type": "code",
   "execution_count": 14,
   "metadata": {},
   "outputs": [],
   "source": [
    "# Exemplo3) Classe Cachorro   (obs. nao usar \"Ç\".. ex: raça = raca)\n",
    "class Cachorro():\n",
    "    def __init__(self,raca):\n",
    "        self.raca = raca\n",
    "        print(\"objeto criado\")\n",
    "    def imprime(self,raca):\n",
    "        print(\"esse é o cachorro da raça %s\" %(raca))"
   ]
  },
  {
   "cell_type": "code",
   "execution_count": 18,
   "metadata": {},
   "outputs": [
    {
     "name": "stdout",
     "output_type": "stream",
     "text": [
      "objeto criado\n"
     ]
    }
   ],
   "source": [
    "rex = Cachorro(\"husky\")"
   ]
  },
  {
   "cell_type": "code",
   "execution_count": 19,
   "metadata": {},
   "outputs": [
    {
     "data": {
      "text/plain": [
       "'husky'"
      ]
     },
     "execution_count": 19,
     "metadata": {},
     "output_type": "execute_result"
    }
   ],
   "source": [
    "rex.raca"
   ]
  },
  {
   "cell_type": "code",
   "execution_count": null,
   "metadata": {},
   "outputs": [],
   "source": []
  }
 ],
 "metadata": {
  "kernelspec": {
   "display_name": "Python 3",
   "language": "python",
   "name": "python3"
  },
  "language_info": {
   "codemirror_mode": {
    "name": "ipython",
    "version": 3
   },
   "file_extension": ".py",
   "mimetype": "text/x-python",
   "name": "python",
   "nbconvert_exporter": "python",
   "pygments_lexer": "ipython3",
   "version": "3.6.5"
  }
 },
 "nbformat": 4,
 "nbformat_minor": 2
}
