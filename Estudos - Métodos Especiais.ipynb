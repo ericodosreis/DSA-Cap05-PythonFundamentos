{
 "cells": [
  {
   "cell_type": "markdown",
   "metadata": {},
   "source": [
    "# Métodos Especiais"
   ]
  },
  {
   "cell_type": "code",
   "execution_count": 2,
   "metadata": {},
   "outputs": [],
   "source": [
    "# criando classe Livro()\n",
    "class Livro():\n",
    "    def __init__(self, nome, autor, paginas):\n",
    "        self.nome = nome\n",
    "        self.autor = autor\n",
    "        self.paginas = paginas\n",
    "        print(\"Livro Criado\")\n",
    "    def __str__(self):\n",
    "        return \"Titulo: %s, Autor: %s, Paginas: %s\" \\\n",
    "    % (self.nome, self.autor, self.paginas)\n",
    "    def __len__(self):\n",
    "        return self.paginas\n",
    "    def len(self):\n",
    "        return print(\"numero de paginas pelo metodo comum: \", self.paginas)"
   ]
  },
  {
   "cell_type": "code",
   "execution_count": 3,
   "metadata": {},
   "outputs": [
    {
     "name": "stdout",
     "output_type": "stream",
     "text": [
      "Livro Criado\n"
     ]
    }
   ],
   "source": [
    "livro1 = Livro(\"Os Lusiadas\", \"Camões\", 8816) "
   ]
  },
  {
   "cell_type": "code",
   "execution_count": 5,
   "metadata": {},
   "outputs": [
    {
     "name": "stdout",
     "output_type": "stream",
     "text": [
      "Titulo: Os Lusiadas, Autor: Camões, Paginas: 8816\n"
     ]
    }
   ],
   "source": [
    "#Métodos Especiais\n",
    "# o metodo especial __str__ é chamado quando voce chama a função print\n",
    "print(livro1)"
   ]
  },
  {
   "cell_type": "code",
   "execution_count": 6,
   "metadata": {},
   "outputs": [
    {
     "data": {
      "text/plain": [
       "'Titulo: Os Lusiadas, Autor: Camões, Paginas: 8816'"
      ]
     },
     "execution_count": 6,
     "metadata": {},
     "output_type": "execute_result"
    }
   ],
   "source": [
    "str(livro1)"
   ]
  },
  {
   "cell_type": "code",
   "execution_count": 8,
   "metadata": {},
   "outputs": [
    {
     "data": {
      "text/plain": [
       "8816"
      ]
     },
     "execution_count": 8,
     "metadata": {},
     "output_type": "execute_result"
    }
   ],
   "source": [
    "# o metodo especial __len__ é chamado quando voce chama a função len\n",
    "len(livro1)"
   ]
  },
  {
   "cell_type": "code",
   "execution_count": 9,
   "metadata": {},
   "outputs": [
    {
     "name": "stdout",
     "output_type": "stream",
     "text": [
      "numero de paginas pelo metodo comum:  8816\n"
     ]
    }
   ],
   "source": [
    "# usando o método len criado por nos - a chamada da função é diferente \n",
    "livro1.len()"
   ]
  },
  {
   "cell_type": "code",
   "execution_count": 10,
   "metadata": {},
   "outputs": [],
   "source": [
    "# Ao executar a função del para remover um atributo o python chama o metodo especial __delattr__\n",
    "# del livro1.paginas -> livro1.__delattr__(\"paginas\")\n",
    "del livro1.paginas"
   ]
  },
  {
   "cell_type": "code",
   "execution_count": 12,
   "metadata": {},
   "outputs": [
    {
     "data": {
      "text/plain": [
       "False"
      ]
     },
     "execution_count": 12,
     "metadata": {},
     "output_type": "execute_result"
    }
   ],
   "source": [
    "hasattr(livro1,\"paginas\")"
   ]
  },
  {
   "cell_type": "code",
   "execution_count": null,
   "metadata": {},
   "outputs": [],
   "source": []
  }
 ],
 "metadata": {
  "kernelspec": {
   "display_name": "Python 3",
   "language": "python",
   "name": "python3"
  },
  "language_info": {
   "codemirror_mode": {
    "name": "ipython",
    "version": 3
   },
   "file_extension": ".py",
   "mimetype": "text/x-python",
   "name": "python",
   "nbconvert_exporter": "python",
   "pygments_lexer": "ipython3",
   "version": "3.6.5"
  }
 },
 "nbformat": 4,
 "nbformat_minor": 2
}
