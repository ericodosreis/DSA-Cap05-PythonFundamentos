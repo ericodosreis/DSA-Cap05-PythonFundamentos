{
 "cells": [
  {
   "cell_type": "markdown",
   "metadata": {},
   "source": [
    "# Herança\n"
   ]
  },
  {
   "cell_type": "code",
   "execution_count": 10,
   "metadata": {},
   "outputs": [],
   "source": [
    "# criando classe Animal - (Super-Classe)\n",
    "class Animal():\n",
    "    def __init__(self):\n",
    "        print(\"Objeto Animal Criado\")\n",
    "    def identif(self):\n",
    "        print(\"Animal\")\n",
    "    #método inerente a todos os Animais\n",
    "    def comer(self):\n",
    "        print(\"Comendo\")"
   ]
  },
  {
   "cell_type": "code",
   "execution_count": 8,
   "metadata": {},
   "outputs": [],
   "source": [
    "# criando classe Cachorro - (Sub-Classe)\n",
    "class Cachorro(Animal):\n",
    "    def __init__(self):\n",
    "        Animal.__init__(self)\n",
    "        #inicia o metodo construtor da sub-classe (Cachorro) mais o metodo construtor da super-classe (Animal)\n",
    "        print(\"Objeto Cachorro Criado\")\n",
    "    def identif(self):\n",
    "        print(\"Cachorro\")\n",
    "    #método inerente apenas aos Cachorros\n",
    "    def latir(self):\n",
    "        print(\"au au!\")"
   ]
  },
  {
   "cell_type": "code",
   "execution_count": 9,
   "metadata": {},
   "outputs": [
    {
     "name": "stdout",
     "output_type": "stream",
     "text": [
      "Objeto Animal Criado\n",
      "Objeto Cachorro Criado\n"
     ]
    }
   ],
   "source": [
    "# criando objeto dentro da classe Cachorro (resposta da sub-classe + herdada da super-classe)\n",
    "rex = Cachorro()"
   ]
  },
  {
   "cell_type": "code",
   "execution_count": 5,
   "metadata": {},
   "outputs": [
    {
     "name": "stdout",
     "output_type": "stream",
     "text": [
      "Cachorro\n"
     ]
    }
   ],
   "source": [
    "# identificação (quando ha conflito de metodos sobresai o metodo local - subclasse)\n",
    "rex.identif()"
   ]
  },
  {
   "cell_type": "code",
   "execution_count": 6,
   "metadata": {},
   "outputs": [
    {
     "name": "stdout",
     "output_type": "stream",
     "text": [
      "Comendo\n"
     ]
    }
   ],
   "source": [
    "# método herdado da super-classe Animal\n",
    "rex.comer()"
   ]
  },
  {
   "cell_type": "code",
   "execution_count": 7,
   "metadata": {},
   "outputs": [
    {
     "name": "stdout",
     "output_type": "stream",
     "text": [
      "au au!\n"
     ]
    }
   ],
   "source": [
    "# método da sub-classe\n",
    "rex.latir()"
   ]
  },
  {
   "cell_type": "code",
   "execution_count": null,
   "metadata": {},
   "outputs": [],
   "source": []
  }
 ],
 "metadata": {
  "kernelspec": {
   "display_name": "Python 3",
   "language": "python",
   "name": "python3"
  },
  "language_info": {
   "codemirror_mode": {
    "name": "ipython",
    "version": 3
   },
   "file_extension": ".py",
   "mimetype": "text/x-python",
   "name": "python",
   "nbconvert_exporter": "python",
   "pygments_lexer": "ipython3",
   "version": "3.6.5"
  }
 },
 "nbformat": 4,
 "nbformat_minor": 2
}
